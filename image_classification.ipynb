{
 "cells": [
  {
   "cell_type": "markdown",
   "metadata": {
    "collapsed": true
   },
   "source": [
    "# Image Classification\n",
    "In this project, you'll classify images from the [CIFAR-10 dataset](https://www.cs.toronto.edu/~kriz/cifar.html).  The dataset consists of airplanes, dogs, cats, and other objects. You'll preprocess the images, then train a convolutional neural network on all the samples. The images need to be normalized and the labels need to be one-hot encoded.  You'll get to apply what you learned and build a convolutional, max pooling, dropout, and fully connected layers.  At the end, you'll get to see your neural network's predictions on the sample images.\n",
    "## Get the Data\n",
    "Run the following cell to download the [CIFAR-10 dataset for python](https://www.cs.toronto.edu/~kriz/cifar-10-python.tar.gz)."
   ]
  },
  {
   "cell_type": "code",
   "execution_count": 1,
   "metadata": {},
   "outputs": [
    {
     "name": "stdout",
     "output_type": "stream",
     "text": [
      "All files found!\n"
     ]
    }
   ],
   "source": [
    "\"\"\"\n",
    "DON'T MODIFY ANYTHING IN THIS CELL THAT IS BELOW THIS LINE\n",
    "\"\"\"\n",
    "from urllib.request import urlretrieve\n",
    "from os.path import isfile, isdir\n",
    "from tqdm import tqdm\n",
    "import problem_unittests as tests\n",
    "import tarfile\n",
    "\n",
    "cifar10_dataset_folder_path = 'cifar-10-batches-py'\n",
    "\n",
    "# Use Floyd's cifar-10 dataset if present\n",
    "floyd_cifar10_location = '/input/cifar-10/python.tar.gz'\n",
    "if isfile(floyd_cifar10_location):\n",
    "    tar_gz_path = floyd_cifar10_location\n",
    "else:\n",
    "    tar_gz_path = 'cifar-10-python.tar.gz'\n",
    "\n",
    "class DLProgress(tqdm):\n",
    "    last_block = 0\n",
    "\n",
    "    def hook(self, block_num=1, block_size=1, total_size=None):\n",
    "        self.total = total_size\n",
    "        self.update((block_num - self.last_block) * block_size)\n",
    "        self.last_block = block_num\n",
    "\n",
    "if not isfile(tar_gz_path):\n",
    "    with DLProgress(unit='B', unit_scale=True, miniters=1, desc='CIFAR-10 Dataset') as pbar:\n",
    "        urlretrieve(\n",
    "            'https://www.cs.toronto.edu/~kriz/cifar-10-python.tar.gz',\n",
    "            tar_gz_path,\n",
    "            pbar.hook)\n",
    "\n",
    "if not isdir(cifar10_dataset_folder_path):\n",
    "    with tarfile.open(tar_gz_path) as tar:\n",
    "        tar.extractall()\n",
    "        tar.close()\n",
    "\n",
    "\n",
    "tests.test_folder_path(cifar10_dataset_folder_path)"
   ]
  },
  {
   "cell_type": "markdown",
   "metadata": {},
   "source": [
    "## Explore the Data\n",
    "The dataset is broken into batches to prevent your machine from running out of memory.  The CIFAR-10 dataset consists of 5 batches, named `data_batch_1`, `data_batch_2`, etc.. Each batch contains the labels and images that are one of the following:\n",
    "* airplane\n",
    "* automobile\n",
    "* bird\n",
    "* cat\n",
    "* deer\n",
    "* dog\n",
    "* frog\n",
    "* horse\n",
    "* ship\n",
    "* truck\n",
    "\n",
    "Understanding a dataset is part of making predictions on the data.  Play around with the code cell below by changing the `batch_id` and `sample_id`. The `batch_id` is the id for a batch (1-5). The `sample_id` is the id for a image and label pair in the batch.\n",
    "\n",
    "Ask yourself \"What are all possible labels?\", \"What is the range of values for the image data?\", \"Are the labels in order or random?\".  Answers to questions like these will help you preprocess the data and end up with better predictions."
   ]
  },
  {
   "cell_type": "code",
   "execution_count": 2,
   "metadata": {},
   "outputs": [
    {
     "name": "stdout",
     "output_type": "stream",
     "text": [
      "\n",
      "Stats of batch 1:\n",
      "Samples: 10000\n",
      "Label Counts: {0: 1005, 1: 974, 2: 1032, 3: 1016, 4: 999, 5: 937, 6: 1030, 7: 1001, 8: 1025, 9: 981}\n",
      "First 20 Labels: [6, 9, 9, 4, 1, 1, 2, 7, 8, 3, 4, 7, 7, 2, 9, 9, 9, 3, 2, 6]\n",
      "\n",
      "Example of Image 5:\n",
      "Image - Min Value: 0 Max Value: 252\n",
      "Image - Shape: (32, 32, 3)\n",
      "Label - Label Id: 1 Name: automobile\n"
     ]
    },
    {
     "data": {
      "image/png": "[encoded data removed]",
      "text/plain": [
       "<matplotlib.figure.Figure at 0x7fcec40d7390>"
      ]
     },
     "metadata": {
      "image/png": {
       "height": 250,
       "width": 253
      }
     },
     "output_type": "display_data"
    }
   ],
   "source": [
    "%matplotlib inline\n",
    "%config InlineBackend.figure_format = 'retina'\n",
    "\n",
    "import helper\n",
    "import numpy as np\n",
    "\n",
    "# Explore the dataset\n",
    "batch_id = 1\n",
    "sample_id = 5\n",
    "helper.display_stats(cifar10_dataset_folder_path, batch_id, sample_id)"
   ]
  },
  {
   "cell_type": "markdown",
   "metadata": {},
   "source": [
    "## Implement Preprocess Functions\n",
    "### Normalize\n",
    "In the cell below, implement the `normalize` function to take in image data, `x`, and return it as a normalized Numpy array. The values should be in the range of 0 to 1, inclusive.  The return object should be the same shape as `x`."
   ]
  },
  {
   "cell_type": "code",
   "execution_count": 3,
   "metadata": {},
   "outputs": [
    {
     "name": "stdout",
     "output_type": "stream",
     "text": [
      "Tests Passed\n"
     ]
    }
   ],
   "source": [
    "def normalize(x):\n",
    "    \"\"\"\n",
    "    Normalize a list of sample image data in the range of 0 to 1\n",
    "    : x: List of image data.  The image shape is (32, 32, 3)\n",
    "    : return: Numpy array of normalize data\n",
    "    \"\"\"\n",
    "    # TODO: Implement Function\n",
    "    return (x - np.min(x)) / (np.max(x) - np.min(x))\n",
    "\n",
    "\n",
    "\"\"\"\n",
    "DON'T MODIFY ANYTHING IN THIS CELL THAT IS BELOW THIS LINE\n",
    "\"\"\"\n",
    "tests.test_normalize(normalize)"
   ]
  },
  {
   "cell_type": "markdown",
   "metadata": {},
   "source": [
    "### One-hot encode\n",
    "Just like the previous code cell, you'll be implementing a function for preprocessing.  This time, you'll implement the `one_hot_encode` function. The input, `x`, are a list of labels.  Implement the function to return the list of labels as One-Hot encoded Numpy array.  The possible values for labels are 0 to 9. The one-hot encoding function should return the same encoding for each value between each call to `one_hot_encode`.  Make sure to save the map of encodings outside the function.\n",
    "\n",
    "Hint: Don't reinvent the wheel."
   ]
  },
  {
   "cell_type": "code",
   "execution_count": 4,
   "metadata": {},
   "outputs": [
    {
     "name": "stdout",
     "output_type": "stream",
     "text": [
      "Tests Passed\n"
     ]
    }
   ],
   "source": [
    "def one_hot_encode(x):\n",
    "    \"\"\"\n",
    "    One hot encode a list of sample labels. Return a one-hot encoded vector for each label.\n",
    "    : x: List of sample Labels\n",
    "    : return: Numpy array of one-hot encoded labels\n",
    "    \"\"\"\n",
    "    # TODO: Implement Function\n",
    "    return np.eye(10)[x]\n",
    "\n",
    "\n",
    "\"\"\"\n",
    "DON'T MODIFY ANYTHING IN THIS CELL THAT IS BELOW THIS LINE\n",
    "\"\"\"\n",
    "tests.test_one_hot_encode(one_hot_encode)"
   ]
  },
  {
   "cell_type": "markdown",
   "metadata": {},
   "source": [
    "### Randomize Data\n",
    "As you saw from exploring the data above, the order of the samples are randomized.  It doesn't hurt to randomize it again, but you don't need to for this dataset."
   ]
  },
  {
   "cell_type": "markdown",
   "metadata": {},
   "source": [
    "## Preprocess all the data and save it\n",
    "Running the code cell below will preprocess all the CIFAR-10 data and save it to file. The code below also uses 10% of the training data for validation."
   ]
  },
  {
   "cell_type": "code",
   "execution_count": 5,
   "metadata": {
    "collapsed": true
   },
   "outputs": [],
   "source": [
    "\"\"\"\n",
    "DON'T MODIFY ANYTHING IN THIS CELL\n",
    "\"\"\"\n",
    "# Preprocess Training, Validation, and Testing Data\n",
    "helper.preprocess_and_save_data(cifar10_dataset_folder_path, normalize, one_hot_encode)"
   ]
  },
  {
   "cell_type": "markdown",
   "metadata": {},
   "source": [
    "# Check Point\n",
    "This is your first checkpoint.  If you ever decide to come back to this notebook or have to restart the notebook, you can start from here.  The preprocessed data has been saved to disk."
   ]
  },
  {
   "cell_type": "code",
   "execution_count": 6,
   "metadata": {
    "collapsed": true
   },
   "outputs": [],
   "source": [
    "\"\"\"\n",
    "DON'T MODIFY ANYTHING IN THIS CELL\n",
    "\"\"\"\n",
    "import pickle\n",
    "import problem_unittests as tests\n",
    "import helper\n",
    "\n",
    "# Load the Preprocessed Validation data\n",
    "valid_features, valid_labels = pickle.load(open('preprocess_validation.p', mode='rb'))"
   ]
  },
  {
   "cell_type": "markdown",
   "metadata": {},
   "source": [
    "## Build the network\n",
    "For the neural network, you'll build each layer into a function.  Most of the code you've seen has been outside of functions. To test your code more thoroughly, we require that you put each layer in a function.  This allows us to give you better feedback and test for simple mistakes using our unittests before you submit your project.\n",
    "\n",
    ">**Note:** If you're finding it hard to dedicate enough time for this course each week, we've provided a small shortcut to this part of the project. In the next couple of problems, you'll have the option to use classes from the [TensorFlow Layers](https://www.tensorflow.org/api_docs/python/tf/layers) or [TensorFlow Layers (contrib)](https://www.tensorflow.org/api_guides/python/contrib.layers) packages to build each layer, except the layers you build in the \"Convolutional and Max Pooling Layer\" section.  TF Layers is similar to Keras's and TFLearn's abstraction to layers, so it's easy to pickup.\n",
    "\n",
    ">However, if you would like to get the most out of this course, try to solve all the problems _without_ using anything from the TF Layers packages. You **can** still use classes from other packages that happen to have the same name as ones you find in TF Layers! For example, instead of using the TF Layers version of the `conv2d` class, [tf.layers.conv2d](https://www.tensorflow.org/api_docs/python/tf/layers/conv2d), you would want to use the TF Neural Network version of `conv2d`, [tf.nn.conv2d](https://www.tensorflow.org/api_docs/python/tf/nn/conv2d). \n",
    "\n",
    "Let's begin!\n",
    "\n",
    "### Input\n",
    "The neural network needs to read the image data, one-hot encoded labels, and dropout keep probability. Implement the following functions\n",
    "* Implement `neural_net_image_input`\n",
    " * Return a [TF Placeholder](https://www.tensorflow.org/api_docs/python/tf/placeholder)\n",
    " * Set the shape using `image_shape` with batch size set to `None`.\n",
    " * Name the TensorFlow placeholder \"x\" using the TensorFlow `name` parameter in the [TF Placeholder](https://www.tensorflow.org/api_docs/python/tf/placeholder).\n",
    "* Implement `neural_net_label_input`\n",
    " * Return a [TF Placeholder](https://www.tensorflow.org/api_docs/python/tf/placeholder)\n",
    " * Set the shape using `n_classes` with batch size set to `None`.\n",
    " * Name the TensorFlow placeholder \"y\" using the TensorFlow `name` parameter in the [TF Placeholder](https://www.tensorflow.org/api_docs/python/tf/placeholder).\n",
    "* Implement `neural_net_keep_prob_input`\n",
    " * Return a [TF Placeholder](https://www.tensorflow.org/api_docs/python/tf/placeholder) for dropout keep probability.\n",
    " * Name the TensorFlow placeholder \"keep_prob\" using the TensorFlow `name` parameter in the [TF Placeholder](https://www.tensorflow.org/api_docs/python/tf/placeholder).\n",
    "\n",
    "These names will be used at the end of the project to load your saved model.\n",
    "\n",
    "Note: `None` for shapes in TensorFlow allow for a dynamic size."
   ]
  },
  {
   "cell_type": "code",
   "execution_count": 7,
   "metadata": {},
   "outputs": [
    {
     "name": "stdout",
     "output_type": "stream",
     "text": [
      "Image Input Tests Passed.\n",
      "Label Input Tests Passed.\n",
      "Keep Prob Tests Passed.\n"
     ]
    }
   ],
   "source": [
    "import tensorflow as tf\n",
    "\n",
    "def neural_net_image_input(image_shape):\n",
    "    \"\"\"\n",
    "    Return a Tensor for a bach of image input\n",
    "    : image_shape: Shape of the images\n",
    "    : return: Tensor for image input.\n",
    "    \"\"\"\n",
    "    # TODO: Implement Function\n",
    "    return tf.placeholder(tf.float32, [None, *image_shape], name='x')\n",
    "\n",
    "\n",
    "def neural_net_label_input(n_classes):\n",
    "    \"\"\"\n",
    "    Return a Tensor for a batch of label input\n",
    "    : n_classes: Number of classes\n",
    "    : return: Tensor for label input.\n",
    "    \"\"\"\n",
    "    # TODO: Implement Function\n",
    "    return tf.placeholder(tf.float32, (None, n_classes), name=\"y\")\n",
    "\n",
    "\n",
    "def neural_net_keep_prob_input():\n",
    "    \"\"\"\n",
    "    Return a Tensor for keep probability\n",
    "    : return: Tensor for keep probability.\n",
    "    \"\"\"\n",
    "    # TODO: Implement Function\n",
    "    return tf.placeholder(tf.float32, name=\"keep_prob\")\n",
    "\n",
    "\n",
    "\"\"\"\n",
    "DON'T MODIFY ANYTHING IN THIS CELL THAT IS BELOW THIS LINE\n",
    "\"\"\"\n",
    "tf.reset_default_graph()\n",
    "tests.test_nn_image_inputs(neural_net_image_input)\n",
    "tests.test_nn_label_inputs(neural_net_label_input)\n",
    "tests.test_nn_keep_prob_inputs(neural_net_keep_prob_input)"
   ]
  },
  {
   "cell_type": "markdown",
   "metadata": {},
   "source": [
    "### Convolution and Max Pooling Layer\n",
    "Convolution layers have a lot of success with images. For this code cell, you should implement the function `conv2d_maxpool` to apply convolution then max pooling:\n",
    "* Create the weight and bias using `conv_ksize`, `conv_num_outputs` and the shape of `x_tensor`.\n",
    "* Apply a convolution to `x_tensor` using weight and `conv_strides`.\n",
    " * We recommend you use same padding, but you're welcome to use any padding.\n",
    "* Add bias\n",
    "* Add a nonlinear activation to the convolution.\n",
    "* Apply Max Pooling using `pool_ksize` and `pool_strides`.\n",
    " * We recommend you use same padding, but you're welcome to use any padding.\n",
    "\n",
    "**Note:** You **can't** use [TensorFlow Layers](https://www.tensorflow.org/api_docs/python/tf/layers) or [TensorFlow Layers (contrib)](https://www.tensorflow.org/api_guides/python/contrib.layers) for **this** layer, but you can still use TensorFlow's [Neural Network](https://www.tensorflow.org/api_docs/python/tf/nn) package. You may still use the shortcut option for all the **other** layers."
   ]
  },
  {
   "cell_type": "code",
   "execution_count": 8,
   "metadata": {},
   "outputs": [
    {
     "name": "stdout",
     "output_type": "stream",
     "text": [
      "Tests Passed\n"
     ]
    }
   ],
   "source": [
    "def conv2d_maxpool(x_tensor, conv_num_outputs, conv_ksize, conv_strides, pool_ksize, pool_strides):\n",
    "    \"\"\"\n",
    "    Apply convolution then max pooling to x_tensor\n",
    "    :param x_tensor: TensorFlow Tensor\n",
    "    :param conv_num_outputs: Number of outputs for the convolutional layer\n",
    "    :param conv_ksize: kernal size 2-D Tuple for the convolutional layer\n",
    "    :param conv_strides: Stride 2-D Tuple for convolution\n",
    "    :param pool_ksize: kernal size 2-D Tuple for pool\n",
    "    :param pool_strides: Stride 2-D Tuple for pool\n",
    "    : return: A tensor that represents convolution and max pooling of x_tensor\n",
    "    \"\"\"\n",
    "    # TODO: Implement Function\n",
    "    input_shape = int(x_tensor.shape[3])\n",
    "    output_shape = conv_num_outputs\n",
    "    weight_shape = [*conv_ksize, input_shape, output_shape]\n",
    "    w = tf.Variable(tf.random_normal(weight_shape, stddev=0.1))\n",
    "    b = tf.Variable(tf.zeros(output_shape))\n",
    "    \n",
    "    covnet = tf.nn.conv2d(x_tensor, w, [1, *conv_strides, 1], padding=\"SAME\")\n",
    "    covnet = tf.nn.bias_add(covnet, b)\n",
    "    covnet = tf.nn.relu(covnet)\n",
    "    \n",
    "    pool_strides = [1, *pool_strides, 1]\n",
    "    pool_ksize = [1, *conv_ksize, 1]\n",
    "    covnet = tf.nn.max_pool(covnet, pool_ksize, pool_strides, padding=\"SAME\")\n",
    "    \n",
    "    return covnet \n",
    "\n",
    "\n",
    "\"\"\"\n",
    "DON'T MODIFY ANYTHING IN THIS CELL THAT IS BELOW THIS LINE\n",
    "\"\"\"\n",
    "tests.test_con_pool(conv2d_maxpool)"
   ]
  },
  {
   "cell_type": "markdown",
   "metadata": {},
   "source": [
    "### Flatten Layer\n",
    "Implement the `flatten` function to change the dimension of `x_tensor` from a 4-D tensor to a 2-D tensor.  The output should be the shape (*Batch Size*, *Flattened Image Size*). Shortcut option: you can use classes from the [TensorFlow Layers](https://www.tensorflow.org/api_docs/python/tf/layers) or [TensorFlow Layers (contrib)](https://www.tensorflow.org/api_guides/python/contrib.layers) packages for this layer. For more of a challenge, only use other TensorFlow packages."
   ]
  },
  {
   "cell_type": "code",
   "execution_count": 9,
   "metadata": {},
   "outputs": [
    {
     "name": "stdout",
     "output_type": "stream",
     "text": [
      "Tests Passed\n"
     ]
    }
   ],
   "source": [
    "def flatten(x_tensor):\n",
    "    \"\"\"\n",
    "    Flatten x_tensor to (Batch Size, Flattened Image Size)\n",
    "    : x_tensor: A tensor of size (Batch Size, ...), where ... are the image dimensions.\n",
    "    : return: A tensor of size (Batch Size, Flattened Image Size).\n",
    "    \"\"\"\n",
    "    # TODO: Implement Function\n",
    "    return tf.contrib.layers.flatten(x_tensor)\n",
    "\n",
    "\n",
    "\"\"\"\n",
    "DON'T MODIFY ANYTHING IN THIS CELL THAT IS BELOW THIS LINE\n",
    "\"\"\"\n",
    "tests.test_flatten(flatten)"
   ]
  },
  {
   "cell_type": "markdown",
   "metadata": {},
   "source": [
    "### Fully-Connected Layer\n",
    "Implement the `fully_conn` function to apply a fully connected layer to `x_tensor` with the shape (*Batch Size*, *num_outputs*). Shortcut option: you can use classes from the [TensorFlow Layers](https://www.tensorflow.org/api_docs/python/tf/layers) or [TensorFlow Layers (contrib)](https://www.tensorflow.org/api_guides/python/contrib.layers) packages for this layer. For more of a challenge, only use other TensorFlow packages."
   ]
  },
  {
   "cell_type": "code",
   "execution_count": 12,
   "metadata": {},
   "outputs": [
    {
     "name": "stdout",
     "output_type": "stream",
     "text": [
      "Tests Passed\n"
     ]
    }
   ],
   "source": [
    "def fully_conn(x_tensor, num_outputs):\n",
    "    \"\"\"\n",
    "    Apply a fully connected layer to x_tensor using weight and bias\n",
    "    : x_tensor: A 2-D tensor where the first dimension is batch size.\n",
    "    : num_outputs: The number of output that the new tensor should be.\n",
    "    : return: A 2-D tensor where the second dimension is num_outputs.\n",
    "    \"\"\"\n",
    "    # TODO: Implement Function\n",
    "    weight_shape = (int(x_tensor.get_shape().as_list()[1]), num_outputs)\n",
    "    w = tf.Variable(tf.random_normal(weight_shape, stddev=0.1))\n",
    "    b = tf.Variable(tf.zeros(num_outputs))\n",
    "    layer = tf.add(tf.matmul(x_tensor, w), b)\n",
    "    layer = tf.nn.relu(layer)\n",
    "    return layer\n",
    "\n",
    "\n",
    "\"\"\"\n",
    "DON'T MODIFY ANYTHING IN THIS CELL THAT IS BELOW THIS LINE\n",
    "\"\"\"\n",
    "tests.test_fully_conn(fully_conn)"
   ]
  },
  {
   "cell_type": "markdown",
   "metadata": {},
   "source": [
    "### Output Layer\n",
    "Implement the `output` function to apply a fully connected layer to `x_tensor` with the shape (*Batch Size*, *num_outputs*). Shortcut option: you can use classes from the [TensorFlow Layers](https://www.tensorflow.org/api_docs/python/tf/layers) or [TensorFlow Layers (contrib)](https://www.tensorflow.org/api_guides/python/contrib.layers) packages for this layer. For more of a challenge, only use other TensorFlow packages.\n",
    "\n",
    "**Note:** Activation, softmax, or cross entropy should **not** be applied to this."
   ]
  },
  {
   "cell_type": "code",
   "execution_count": 13,
   "metadata": {},
   "outputs": [
    {
     "name": "stdout",
     "output_type": "stream",
     "text": [
      "Tests Passed\n"
     ]
    }
   ],
   "source": [
    "def output(x_tensor, num_outputs):\n",
    "    \"\"\"\n",
    "    Apply a output layer to x_tensor using weight and bias\n",
    "    : x_tensor: A 2-D tensor where the first dimension is batch size.\n",
    "    : num_outputs: The number of output that the new tensor should be.\n",
    "    : return: A 2-D tensor where the second dimension is num_outputs.\n",
    "    \"\"\"\n",
    "    # TODO: Implement Function\n",
    "    w_shape = [int(x_tensor.get_shape().as_list()[1]), num_outputs]\n",
    "    w = tf.Variable(tf.random_normal(w_shape, stddev=0.1))\n",
    "    b = tf.Variable(tf.zeros(num_outputs))\n",
    "    layer = tf.add(tf.matmul(x_tensor, w), b)\n",
    "    return layer\n",
    "\n",
    "\n",
    "\"\"\"\n",
    "DON'T MODIFY ANYTHING IN THIS CELL THAT IS BELOW THIS LINE\n",
    "\"\"\"\n",
    "tests.test_output(output)"
   ]
  },
  {
   "cell_type": "markdown",
   "metadata": {},
   "source": [
    "### Create Convolutional Model\n",
    "Implement the function `conv_net` to create a convolutional neural network model. The function takes in a batch of images, `x`, and outputs logits.  Use the layers you created above to create this model:\n",
    "\n",
    "* Apply 1, 2, or 3 Convolution and Max Pool layers\n",
    "* Apply a Flatten Layer\n",
    "* Apply 1, 2, or 3 Fully Connected Layers\n",
    "* Apply an Output Layer\n",
    "* Return the output\n",
    "* Apply [TensorFlow's Dropout](https://www.tensorflow.org/api_docs/python/tf/nn/dropout) to one or more layers in the model using `keep_prob`. "
   ]
  },
  {
   "cell_type": "code",
   "execution_count": 14,
   "metadata": {},
   "outputs": [
    {
     "name": "stdout",
     "output_type": "stream",
     "text": [
      "Neural Network Built!\n"
     ]
    }
   ],
   "source": [
    "def conv_net(x, keep_prob):\n",
    "    \"\"\"\n",
    "    Create a convolutional neural network model\n",
    "    : x: Placeholder tensor that holds image data.\n",
    "    : keep_prob: Placeholder tensor that hold dropout keep probability.\n",
    "    : return: Tensor that represents logits\n",
    "    \"\"\"\n",
    "    # TODO: Apply 1, 2, or 3 Convolution and Max Pool layers\n",
    "    #    Play around with different number of outputs, kernel size and stride\n",
    "    # Function Definition from Above:\n",
    "    #    conv2d_maxpool(x_tensor, conv_num_outputs, conv_ksize, conv_strides, pool_ksize, pool_strides)\n",
    "    x = conv2d_maxpool(x, 32, (3, 3), (1, 1), (2, 2), (2, 2))\n",
    "    x = conv2d_maxpool(x, 32, (3, 3), (2, 2), (2, 2), (2, 2))\n",
    "    x = conv2d_maxpool(x, 64, (3, 3), (1, 1), (2, 2), (2, 2))\n",
    "\n",
    "    # TODO: Apply a Flatten Layer\n",
    "    # Function Definition from Above:\n",
    "    #   flatten(x_tensor)\n",
    "    x = flatten(x)\n",
    "    \n",
    "\n",
    "    # TODO: Apply 1, 2, or 3 Fully Connected Layers\n",
    "    #    Play around with different number of outputs\n",
    "    # Function Definition from Above:\n",
    "    #   fully_conn(x_tensor, num_outputs)\n",
    "    x = fully_conn(x, 512)\n",
    "    x = tf.nn.dropout(x, keep_prob)\n",
    "    x = fully_conn(x, 128)\n",
    "    x = tf.nn.dropout(x, keep_prob)\n",
    "    \n",
    "    \n",
    "    # TODO: Apply an Output Layer\n",
    "    #    Set this to the number of classes\n",
    "    # Function Definition from Above:\n",
    "    #   output(x_tensor, num_outputs)\n",
    "    out = output(x, 10)\n",
    "    \n",
    "    \n",
    "    # TODO: return output\n",
    "    return out\n",
    "\n",
    "\n",
    "\n",
    "\"\"\"\n",
    "DON'T MODIFY ANYTHING IN THIS CELL THAT IS BELOW THIS LINE\n",
    "\"\"\"\n",
    "\n",
    "##############################\n",
    "## Build the Neural Network ##\n",
    "##############################\n",
    "\n",
    "# Remove previous weights, bias, inputs, etc..\n",
    "tf.reset_default_graph()\n",
    "\n",
    "# Inputs\n",
    "x = neural_net_image_input((32, 32, 3))\n",
    "y = neural_net_label_input(10)\n",
    "keep_prob = neural_net_keep_prob_input()\n",
    "\n",
    "# Model\n",
    "logits = conv_net(x, keep_prob)\n",
    "\n",
    "# Name logits Tensor, so that is can be loaded from disk after training\n",
    "logits = tf.identity(logits, name='logits')\n",
    "\n",
    "# Loss and Optimizer\n",
    "cost = tf.reduce_mean(tf.nn.softmax_cross_entropy_with_logits(logits=logits, labels=y))\n",
    "optimizer = tf.train.AdamOptimizer().minimize(cost)\n",
    "\n",
    "# Accuracy\n",
    "correct_pred = tf.equal(tf.argmax(logits, 1), tf.argmax(y, 1))\n",
    "accuracy = tf.reduce_mean(tf.cast(correct_pred, tf.float32), name='accuracy')\n",
    "\n",
    "tests.test_conv_net(conv_net)"
   ]
  },
  {
   "cell_type": "markdown",
   "metadata": {},
   "source": [
    "## Train the Neural Network\n",
    "### Single Optimization\n",
    "Implement the function `train_neural_network` to do a single optimization.  The optimization should use `optimizer` to optimize in `session` with a `feed_dict` of the following:\n",
    "* `x` for image input\n",
    "* `y` for labels\n",
    "* `keep_prob` for keep probability for dropout\n",
    "\n",
    "This function will be called for each batch, so `tf.global_variables_initializer()` has already been called.\n",
    "\n",
    "Note: Nothing needs to be returned. This function is only optimizing the neural network."
   ]
  },
  {
   "cell_type": "code",
   "execution_count": 15,
   "metadata": {},
   "outputs": [
    {
     "name": "stdout",
     "output_type": "stream",
     "text": [
      "Tests Passed\n"
     ]
    }
   ],
   "source": [
    "def train_neural_network(session, optimizer, keep_probability, feature_batch, label_batch):\n",
    "    \"\"\"\n",
    "    Optimize the session on a batch of images and labels\n",
    "    : session: Current TensorFlow session\n",
    "    : optimizer: TensorFlow optimizer function\n",
    "    : keep_probability: keep probability\n",
    "    : feature_batch: Batch of Numpy image data\n",
    "    : label_batch: Batch of Numpy label data\n",
    "    \"\"\"\n",
    "    # TODO: Implement Function\n",
    "    session.run(optimizer, feed_dict={\n",
    "        x: feature_batch,\n",
    "        y: label_batch,\n",
    "        keep_prob: keep_probability\n",
    "    })\n",
    "\n",
    "\n",
    "\"\"\"\n",
    "DON'T MODIFY ANYTHING IN THIS CELL THAT IS BELOW THIS LINE\n",
    "\"\"\"\n",
    "tests.test_train_nn(train_neural_network)"
   ]
  },
  {
   "cell_type": "markdown",
   "metadata": {},
   "source": [
    "### Show Stats\n",
    "Implement the function `print_stats` to print loss and validation accuracy.  Use the global variables `valid_features` and `valid_labels` to calculate validation accuracy.  Use a keep probability of `1.0` to calculate the loss and validation accuracy."
   ]
  },
  {
   "cell_type": "code",
   "execution_count": 16,
   "metadata": {
    "collapsed": true
   },
   "outputs": [],
   "source": [
    "def print_stats(session, feature_batch, label_batch, cost, accuracy):\n",
    "    \"\"\"\n",
    "    Print information about loss and validation accuracy\n",
    "    : session: Current TensorFlow session\n",
    "    : feature_batch: Batch of Numpy image data\n",
    "    : label_batch: Batch of Numpy label data\n",
    "    : cost: TensorFlow cost function\n",
    "    : accuracy: TensorFlow accuracy function\n",
    "    \"\"\"\n",
    "    # TODO: Implement Function\n",
    "    loss = session.run(cost, feed_dict={\n",
    "        x: feature_batch,\n",
    "        y: label_batch,\n",
    "        keep_prob: 1.\n",
    "    })\n",
    "    \n",
    "    valid_accuracy = session.run(accuracy, feed_dict={\n",
    "        x: valid_features,\n",
    "        y: valid_labels,\n",
    "        keep_prob: 1.\n",
    "    })\n",
    "\n",
    "    print('Loss: {:>10.4f} Validation Accuracy: {:.6f}'.format(loss, valid_accuracy))"
   ]
  },
  {
   "cell_type": "markdown",
   "metadata": {},
   "source": [
    "### Hyperparameters\n",
    "Tune the following parameters:\n",
    "* Set `epochs` to the number of iterations until the network stops learning or start overfitting\n",
    "* Set `batch_size` to the highest number that your machine has memory for.  Most people set them to common sizes of memory:\n",
    " * 64\n",
    " * 128\n",
    " * 256\n",
    " * ...\n",
    "* Set `keep_probability` to the probability of keeping a node using dropout"
   ]
  },
  {
   "cell_type": "code",
   "execution_count": 17,
   "metadata": {
    "collapsed": true
   },
   "outputs": [],
   "source": [
    "# TODO: Tune Parameters\n",
    "epochs = 50\n",
    "batch_size = 256\n",
    "keep_probability = 0.5"
   ]
  },
  {
   "cell_type": "markdown",
   "metadata": {},
   "source": [
    "### Train on a Single CIFAR-10 Batch\n",
    "Instead of training the neural network on all the CIFAR-10 batches of data, let's use a single batch. This should save time while you iterate on the model to get a better accuracy.  Once the final validation accuracy is 50% or greater, run the model on all the data in the next section."
   ]
  },
  {
   "cell_type": "code",
   "execution_count": 18,
   "metadata": {},
   "outputs": [
    {
     "name": "stdout",
     "output_type": "stream",
     "text": [
      "Checking the Training on a Single Batch...\n",
      "Epoch  1, CIFAR-10 Batch 1:  Loss:     2.2769 Validation Accuracy: 0.167400\n",
      "Epoch  2, CIFAR-10 Batch 1:  Loss:     2.1302 Validation Accuracy: 0.234600\n",
      "Epoch  3, CIFAR-10 Batch 1:  Loss:     1.9885 Validation Accuracy: 0.341400\n",
      "Epoch  4, CIFAR-10 Batch 1:  Loss:     1.8223 Validation Accuracy: 0.363400\n",
      "Epoch  5, CIFAR-10 Batch 1:  Loss:     1.6845 Validation Accuracy: 0.398800\n",
      "Epoch  6, CIFAR-10 Batch 1:  Loss:     1.5818 Validation Accuracy: 0.412600\n",
      "Epoch  7, CIFAR-10 Batch 1:  Loss:     1.4675 Validation Accuracy: 0.424000\n",
      "Epoch  8, CIFAR-10 Batch 1:  Loss:     1.3854 Validation Accuracy: 0.442000\n",
      "Epoch  9, CIFAR-10 Batch 1:  Loss:     1.2492 Validation Accuracy: 0.459000\n",
      "Epoch 10, CIFAR-10 Batch 1:  Loss:     1.1903 Validation Accuracy: 0.476600\n",
      "Epoch 11, CIFAR-10 Batch 1:  Loss:     1.1308 Validation Accuracy: 0.480600\n",
      "Epoch 12, CIFAR-10 Batch 1:  Loss:     1.0841 Validation Accuracy: 0.484800\n",
      "Epoch 13, CIFAR-10 Batch 1:  Loss:     0.9803 Validation Accuracy: 0.500800\n",
      "Epoch 14, CIFAR-10 Batch 1:  Loss:     0.9700 Validation Accuracy: 0.503000\n",
      "Epoch 15, CIFAR-10 Batch 1:  Loss:     0.9342 Validation Accuracy: 0.514800\n",
      "Epoch 16, CIFAR-10 Batch 1:  Loss:     0.8850 Validation Accuracy: 0.523200\n",
      "Epoch 17, CIFAR-10 Batch 1:  Loss:     0.8238 Validation Accuracy: 0.525000\n",
      "Epoch 18, CIFAR-10 Batch 1:  Loss:     0.7953 Validation Accuracy: 0.529400\n",
      "Epoch 19, CIFAR-10 Batch 1:  Loss:     0.7489 Validation Accuracy: 0.533000\n",
      "Epoch 20, CIFAR-10 Batch 1:  Loss:     0.7127 Validation Accuracy: 0.549000\n",
      "Epoch 21, CIFAR-10 Batch 1:  Loss:     0.6749 Validation Accuracy: 0.544000\n",
      "Epoch 22, CIFAR-10 Batch 1:  Loss:     0.6685 Validation Accuracy: 0.543400\n",
      "Epoch 23, CIFAR-10 Batch 1:  Loss:     0.6230 Validation Accuracy: 0.528000\n",
      "Epoch 24, CIFAR-10 Batch 1:  Loss:     0.5748 Validation Accuracy: 0.550800\n",
      "Epoch 25, CIFAR-10 Batch 1:  Loss:     0.5322 Validation Accuracy: 0.548600\n",
      "Epoch 26, CIFAR-10 Batch 1:  Loss:     0.5425 Validation Accuracy: 0.555000\n",
      "Epoch 27, CIFAR-10 Batch 1:  Loss:     0.4745 Validation Accuracy: 0.553200\n",
      "Epoch 28, CIFAR-10 Batch 1:  Loss:     0.5114 Validation Accuracy: 0.553600\n",
      "Epoch 29, CIFAR-10 Batch 1:  Loss:     0.4459 Validation Accuracy: 0.561800\n",
      "Epoch 30, CIFAR-10 Batch 1:  Loss:     0.4341 Validation Accuracy: 0.546800\n",
      "Epoch 31, CIFAR-10 Batch 1:  Loss:     0.4429 Validation Accuracy: 0.559000\n",
      "Epoch 32, CIFAR-10 Batch 1:  Loss:     0.4104 Validation Accuracy: 0.568400\n",
      "Epoch 33, CIFAR-10 Batch 1:  Loss:     0.3947 Validation Accuracy: 0.559000\n",
      "Epoch 34, CIFAR-10 Batch 1:  Loss:     0.3635 Validation Accuracy: 0.554800\n",
      "Epoch 35, CIFAR-10 Batch 1:  Loss:     0.3281 Validation Accuracy: 0.560200\n",
      "Epoch 36, CIFAR-10 Batch 1:  Loss:     0.3440 Validation Accuracy: 0.557400\n",
      "Epoch 37, CIFAR-10 Batch 1:  Loss:     0.2948 Validation Accuracy: 0.560600\n",
      "Epoch 38, CIFAR-10 Batch 1:  Loss:     0.2538 Validation Accuracy: 0.550200\n",
      "Epoch 39, CIFAR-10 Batch 1:  Loss:     0.2691 Validation Accuracy: 0.557600\n",
      "Epoch 40, CIFAR-10 Batch 1:  Loss:     0.2554 Validation Accuracy: 0.544800\n",
      "Epoch 41, CIFAR-10 Batch 1:  Loss:     0.2023 Validation Accuracy: 0.555400\n",
      "Epoch 42, CIFAR-10 Batch 1:  Loss:     0.2327 Validation Accuracy: 0.537800\n",
      "Epoch 43, CIFAR-10 Batch 1:  Loss:     0.2049 Validation Accuracy: 0.541600\n",
      "Epoch 44, CIFAR-10 Batch 1:  Loss:     0.1955 Validation Accuracy: 0.550200\n",
      "Epoch 45, CIFAR-10 Batch 1:  Loss:     0.1943 Validation Accuracy: 0.534000\n",
      "Epoch 46, CIFAR-10 Batch 1:  Loss:     0.2019 Validation Accuracy: 0.574600\n",
      "Epoch 47, CIFAR-10 Batch 1:  Loss:     0.1806 Validation Accuracy: 0.574800\n",
      "Epoch 48, CIFAR-10 Batch 1:  Loss:     0.1622 Validation Accuracy: 0.566400\n",
      "Epoch 49, CIFAR-10 Batch 1:  Loss:     0.1319 Validation Accuracy: 0.566400\n",
      "Epoch 50, CIFAR-10 Batch 1:  Loss:     0.1446 Validation Accuracy: 0.563600\n"
     ]
    }
   ],
   "source": [
    "\"\"\"\n",
    "DON'T MODIFY ANYTHING IN THIS CELL\n",
    "\"\"\"\n",
    "print('Checking the Training on a Single Batch...')\n",
    "with tf.Session() as sess:\n",
    "    # Initializing the variables\n",
    "    sess.run(tf.global_variables_initializer())\n",
    "    \n",
    "    # Training cycle\n",
    "    for epoch in range(epochs):\n",
    "        batch_i = 1\n",
    "        for batch_features, batch_labels in helper.load_preprocess_training_batch(batch_i, batch_size):\n",
    "            train_neural_network(sess, optimizer, keep_probability, batch_features, batch_labels)\n",
    "        print('Epoch {:>2}, CIFAR-10 Batch {}:  '.format(epoch + 1, batch_i), end='')\n",
    "        print_stats(sess, batch_features, batch_labels, cost, accuracy)"
   ]
  },
  {
   "cell_type": "markdown",
   "metadata": {},
   "source": [
    "### Fully Train the Model\n",
    "Now that you got a good accuracy with a single CIFAR-10 batch, try it with all five batches."
   ]
  },
  {
   "cell_type": "code",
   "execution_count": 19,
   "metadata": {},
   "outputs": [
    {
     "name": "stdout",
     "output_type": "stream",
     "text": [
      "Training...\n",
      "Epoch  1, CIFAR-10 Batch 1:  Loss:     2.1150 Validation Accuracy: 0.236000\n",
      "Epoch  1, CIFAR-10 Batch 2:  Loss:     1.8177 Validation Accuracy: 0.325200\n",
      "Epoch  1, CIFAR-10 Batch 3:  Loss:     1.5526 Validation Accuracy: 0.364800\n",
      "Epoch  1, CIFAR-10 Batch 4:  Loss:     1.6350 Validation Accuracy: 0.409400\n",
      "Epoch  1, CIFAR-10 Batch 5:  Loss:     1.5209 Validation Accuracy: 0.438000\n",
      "Epoch  2, CIFAR-10 Batch 1:  Loss:     1.5265 Validation Accuracy: 0.444600\n",
      "Epoch  2, CIFAR-10 Batch 2:  Loss:     1.4095 Validation Accuracy: 0.464600\n",
      "Epoch  2, CIFAR-10 Batch 3:  Loss:     1.0852 Validation Accuracy: 0.465200\n",
      "Epoch  2, CIFAR-10 Batch 4:  Loss:     1.2772 Validation Accuracy: 0.490400\n",
      "Epoch  2, CIFAR-10 Batch 5:  Loss:     1.3076 Validation Accuracy: 0.498200\n",
      "Epoch  3, CIFAR-10 Batch 1:  Loss:     1.1774 Validation Accuracy: 0.510000\n",
      "Epoch  3, CIFAR-10 Batch 2:  Loss:     1.1597 Validation Accuracy: 0.510200\n",
      "Epoch  3, CIFAR-10 Batch 3:  Loss:     0.9079 Validation Accuracy: 0.522600\n",
      "Epoch  3, CIFAR-10 Batch 4:  Loss:     1.1120 Validation Accuracy: 0.534400\n",
      "Epoch  3, CIFAR-10 Batch 5:  Loss:     1.1481 Validation Accuracy: 0.520200\n",
      "Epoch  4, CIFAR-10 Batch 1:  Loss:     1.0119 Validation Accuracy: 0.559400\n",
      "Epoch  4, CIFAR-10 Batch 2:  Loss:     1.1055 Validation Accuracy: 0.541600\n",
      "Epoch  4, CIFAR-10 Batch 3:  Loss:     0.7553 Validation Accuracy: 0.546600\n",
      "Epoch  4, CIFAR-10 Batch 4:  Loss:     0.9836 Validation Accuracy: 0.561400\n",
      "Epoch  4, CIFAR-10 Batch 5:  Loss:     0.9938 Validation Accuracy: 0.557800\n",
      "Epoch  5, CIFAR-10 Batch 1:  Loss:     0.9098 Validation Accuracy: 0.583200\n",
      "Epoch  5, CIFAR-10 Batch 2:  Loss:     0.9407 Validation Accuracy: 0.569600\n",
      "Epoch  5, CIFAR-10 Batch 3:  Loss:     0.6620 Validation Accuracy: 0.564000\n",
      "Epoch  5, CIFAR-10 Batch 4:  Loss:     0.8987 Validation Accuracy: 0.575800\n",
      "Epoch  5, CIFAR-10 Batch 5:  Loss:     0.8884 Validation Accuracy: 0.573000\n",
      "Epoch  6, CIFAR-10 Batch 1:  Loss:     0.8208 Validation Accuracy: 0.600200\n",
      "Epoch  6, CIFAR-10 Batch 2:  Loss:     0.8462 Validation Accuracy: 0.585600\n",
      "Epoch  6, CIFAR-10 Batch 3:  Loss:     0.5850 Validation Accuracy: 0.586800\n",
      "Epoch  6, CIFAR-10 Batch 4:  Loss:     0.8286 Validation Accuracy: 0.599800\n",
      "Epoch  6, CIFAR-10 Batch 5:  Loss:     0.7747 Validation Accuracy: 0.600600\n",
      "Epoch  7, CIFAR-10 Batch 1:  Loss:     0.8055 Validation Accuracy: 0.599800\n",
      "Epoch  7, CIFAR-10 Batch 2:  Loss:     0.7315 Validation Accuracy: 0.613800\n",
      "Epoch  7, CIFAR-10 Batch 3:  Loss:     0.5534 Validation Accuracy: 0.602200\n",
      "Epoch  7, CIFAR-10 Batch 4:  Loss:     0.7308 Validation Accuracy: 0.609800\n",
      "Epoch  7, CIFAR-10 Batch 5:  Loss:     0.6875 Validation Accuracy: 0.619600\n",
      "Epoch  8, CIFAR-10 Batch 1:  Loss:     0.7198 Validation Accuracy: 0.609800\n",
      "Epoch  8, CIFAR-10 Batch 2:  Loss:     0.6319 Validation Accuracy: 0.630400\n",
      "Epoch  8, CIFAR-10 Batch 3:  Loss:     0.4785 Validation Accuracy: 0.622000\n",
      "Epoch  8, CIFAR-10 Batch 4:  Loss:     0.6873 Validation Accuracy: 0.624400\n",
      "Epoch  8, CIFAR-10 Batch 5:  Loss:     0.6469 Validation Accuracy: 0.626200\n",
      "Epoch  9, CIFAR-10 Batch 1:  Loss:     0.7306 Validation Accuracy: 0.619400\n",
      "Epoch  9, CIFAR-10 Batch 2:  Loss:     0.5693 Validation Accuracy: 0.628400\n",
      "Epoch  9, CIFAR-10 Batch 3:  Loss:     0.4279 Validation Accuracy: 0.630400\n",
      "Epoch  9, CIFAR-10 Batch 4:  Loss:     0.6323 Validation Accuracy: 0.623400\n",
      "Epoch  9, CIFAR-10 Batch 5:  Loss:     0.5623 Validation Accuracy: 0.630600\n",
      "Epoch 10, CIFAR-10 Batch 1:  Loss:     0.7415 Validation Accuracy: 0.610400\n",
      "Epoch 10, CIFAR-10 Batch 2:  Loss:     0.5257 Validation Accuracy: 0.637000\n",
      "Epoch 10, CIFAR-10 Batch 3:  Loss:     0.3631 Validation Accuracy: 0.645200\n",
      "Epoch 10, CIFAR-10 Batch 4:  Loss:     0.5166 Validation Accuracy: 0.649200\n",
      "Epoch 10, CIFAR-10 Batch 5:  Loss:     0.4891 Validation Accuracy: 0.630000\n",
      "Epoch 11, CIFAR-10 Batch 1:  Loss:     0.6364 Validation Accuracy: 0.631800\n",
      "Epoch 11, CIFAR-10 Batch 2:  Loss:     0.4940 Validation Accuracy: 0.643000\n",
      "Epoch 11, CIFAR-10 Batch 3:  Loss:     0.3198 Validation Accuracy: 0.647000\n",
      "Epoch 11, CIFAR-10 Batch 4:  Loss:     0.4657 Validation Accuracy: 0.656600\n",
      "Epoch 11, CIFAR-10 Batch 5:  Loss:     0.4973 Validation Accuracy: 0.626000\n",
      "Epoch 12, CIFAR-10 Batch 1:  Loss:     0.6057 Validation Accuracy: 0.635200\n",
      "Epoch 12, CIFAR-10 Batch 2:  Loss:     0.4444 Validation Accuracy: 0.654600\n",
      "Epoch 12, CIFAR-10 Batch 3:  Loss:     0.3085 Validation Accuracy: 0.643400\n",
      "Epoch 12, CIFAR-10 Batch 4:  Loss:     0.4370 Validation Accuracy: 0.647400\n",
      "Epoch 12, CIFAR-10 Batch 5:  Loss:     0.3941 Validation Accuracy: 0.645800\n",
      "Epoch 13, CIFAR-10 Batch 1:  Loss:     0.5774 Validation Accuracy: 0.631800\n",
      "Epoch 13, CIFAR-10 Batch 2:  Loss:     0.3846 Validation Accuracy: 0.657200\n",
      "Epoch 13, CIFAR-10 Batch 3:  Loss:     0.2755 Validation Accuracy: 0.652000\n",
      "Epoch 13, CIFAR-10 Batch 4:  Loss:     0.4117 Validation Accuracy: 0.657800\n",
      "Epoch 13, CIFAR-10 Batch 5:  Loss:     0.4054 Validation Accuracy: 0.646000\n",
      "Epoch 14, CIFAR-10 Batch 1:  Loss:     0.5116 Validation Accuracy: 0.661800\n",
      "Epoch 14, CIFAR-10 Batch 2:  Loss:     0.3775 Validation Accuracy: 0.664000\n",
      "Epoch 14, CIFAR-10 Batch 3:  Loss:     0.2818 Validation Accuracy: 0.664400\n",
      "Epoch 14, CIFAR-10 Batch 4:  Loss:     0.3648 Validation Accuracy: 0.663200\n",
      "Epoch 14, CIFAR-10 Batch 5:  Loss:     0.3393 Validation Accuracy: 0.669600\n",
      "Epoch 15, CIFAR-10 Batch 1:  Loss:     0.4575 Validation Accuracy: 0.663400\n",
      "Epoch 15, CIFAR-10 Batch 2:  Loss:     0.3543 Validation Accuracy: 0.669000\n",
      "Epoch 15, CIFAR-10 Batch 3:  Loss:     0.2609 Validation Accuracy: 0.655000\n",
      "Epoch 15, CIFAR-10 Batch 4:  Loss:     0.3345 Validation Accuracy: 0.671800\n",
      "Epoch 15, CIFAR-10 Batch 5:  Loss:     0.3176 Validation Accuracy: 0.660600\n",
      "Epoch 16, CIFAR-10 Batch 1:  Loss:     0.4851 Validation Accuracy: 0.653000\n",
      "Epoch 16, CIFAR-10 Batch 2:  Loss:     0.3571 Validation Accuracy: 0.663200\n",
      "Epoch 16, CIFAR-10 Batch 3:  Loss:     0.2234 Validation Accuracy: 0.669200\n",
      "Epoch 16, CIFAR-10 Batch 4:  Loss:     0.3015 Validation Accuracy: 0.667000\n",
      "Epoch 16, CIFAR-10 Batch 5:  Loss:     0.3379 Validation Accuracy: 0.646800\n",
      "Epoch 17, CIFAR-10 Batch 1:  Loss:     0.4442 Validation Accuracy: 0.654200\n",
      "Epoch 17, CIFAR-10 Batch 2:  Loss:     0.3084 Validation Accuracy: 0.673200\n",
      "Epoch 17, CIFAR-10 Batch 3:  Loss:     0.2167 Validation Accuracy: 0.674600\n",
      "Epoch 17, CIFAR-10 Batch 4:  Loss:     0.3069 Validation Accuracy: 0.660400\n",
      "Epoch 17, CIFAR-10 Batch 5:  Loss:     0.2399 Validation Accuracy: 0.665800\n",
      "Epoch 18, CIFAR-10 Batch 1:  Loss:     0.3921 Validation Accuracy: 0.639600\n",
      "Epoch 18, CIFAR-10 Batch 2:  Loss:     0.2973 Validation Accuracy: 0.678800\n",
      "Epoch 18, CIFAR-10 Batch 3:  Loss:     0.2027 Validation Accuracy: 0.668800\n",
      "Epoch 18, CIFAR-10 Batch 4:  Loss:     0.2289 Validation Accuracy: 0.676400\n",
      "Epoch 18, CIFAR-10 Batch 5:  Loss:     0.2237 Validation Accuracy: 0.679600\n",
      "Epoch 19, CIFAR-10 Batch 1:  Loss:     0.4130 Validation Accuracy: 0.655600\n",
      "Epoch 19, CIFAR-10 Batch 2:  Loss:     0.2924 Validation Accuracy: 0.681200\n",
      "Epoch 19, CIFAR-10 Batch 3:  Loss:     0.1918 Validation Accuracy: 0.672000\n",
      "Epoch 19, CIFAR-10 Batch 4:  Loss:     0.2529 Validation Accuracy: 0.679400\n",
      "Epoch 19, CIFAR-10 Batch 5:  Loss:     0.2293 Validation Accuracy: 0.673400\n",
      "Epoch 20, CIFAR-10 Batch 1:  Loss:     0.3373 Validation Accuracy: 0.666800\n",
      "Epoch 20, CIFAR-10 Batch 2:  Loss:     0.2735 Validation Accuracy: 0.686000\n",
      "Epoch 20, CIFAR-10 Batch 3:  Loss:     0.1591 Validation Accuracy: 0.674800\n",
      "Epoch 20, CIFAR-10 Batch 4:  Loss:     0.1982 Validation Accuracy: 0.673400\n",
      "Epoch 20, CIFAR-10 Batch 5:  Loss:     0.2418 Validation Accuracy: 0.670400\n",
      "Epoch 21, CIFAR-10 Batch 1:  Loss:     0.3419 Validation Accuracy: 0.680000\n",
      "Epoch 21, CIFAR-10 Batch 2:  Loss:     0.2500 Validation Accuracy: 0.680000\n",
      "Epoch 21, CIFAR-10 Batch 3:  Loss:     0.1782 Validation Accuracy: 0.655800\n",
      "Epoch 21, CIFAR-10 Batch 4:  Loss:     0.2007 Validation Accuracy: 0.677800\n",
      "Epoch 21, CIFAR-10 Batch 5:  Loss:     0.2255 Validation Accuracy: 0.661800\n",
      "Epoch 22, CIFAR-10 Batch 1:  Loss:     0.3227 Validation Accuracy: 0.665400\n",
      "Epoch 22, CIFAR-10 Batch 2:  Loss:     0.2567 Validation Accuracy: 0.673600\n",
      "Epoch 22, CIFAR-10 Batch 3:  Loss:     0.1786 Validation Accuracy: 0.659200\n"
     ]
    },
    {
     "name": "stdout",
     "output_type": "stream",
     "text": [
      "Epoch 22, CIFAR-10 Batch 4:  Loss:     0.1913 Validation Accuracy: 0.677800\n",
      "Epoch 22, CIFAR-10 Batch 5:  Loss:     0.2234 Validation Accuracy: 0.667600\n",
      "Epoch 23, CIFAR-10 Batch 1:  Loss:     0.3095 Validation Accuracy: 0.658800\n",
      "Epoch 23, CIFAR-10 Batch 2:  Loss:     0.2467 Validation Accuracy: 0.678000\n",
      "Epoch 23, CIFAR-10 Batch 3:  Loss:     0.1826 Validation Accuracy: 0.650400\n",
      "Epoch 23, CIFAR-10 Batch 4:  Loss:     0.1540 Validation Accuracy: 0.677200\n",
      "Epoch 23, CIFAR-10 Batch 5:  Loss:     0.1998 Validation Accuracy: 0.673200\n",
      "Epoch 24, CIFAR-10 Batch 1:  Loss:     0.3001 Validation Accuracy: 0.661600\n",
      "Epoch 24, CIFAR-10 Batch 2:  Loss:     0.2065 Validation Accuracy: 0.685600\n",
      "Epoch 24, CIFAR-10 Batch 3:  Loss:     0.1695 Validation Accuracy: 0.657000\n",
      "Epoch 24, CIFAR-10 Batch 4:  Loss:     0.1535 Validation Accuracy: 0.683600\n",
      "Epoch 24, CIFAR-10 Batch 5:  Loss:     0.2218 Validation Accuracy: 0.667800\n",
      "Epoch 25, CIFAR-10 Batch 1:  Loss:     0.2856 Validation Accuracy: 0.664800\n",
      "Epoch 25, CIFAR-10 Batch 2:  Loss:     0.1923 Validation Accuracy: 0.685400\n",
      "Epoch 25, CIFAR-10 Batch 3:  Loss:     0.1582 Validation Accuracy: 0.661400\n",
      "Epoch 25, CIFAR-10 Batch 4:  Loss:     0.1378 Validation Accuracy: 0.682200\n",
      "Epoch 25, CIFAR-10 Batch 5:  Loss:     0.1703 Validation Accuracy: 0.676000\n",
      "Epoch 26, CIFAR-10 Batch 1:  Loss:     0.2687 Validation Accuracy: 0.662600\n",
      "Epoch 26, CIFAR-10 Batch 2:  Loss:     0.2146 Validation Accuracy: 0.677200\n",
      "Epoch 26, CIFAR-10 Batch 3:  Loss:     0.1479 Validation Accuracy: 0.673000\n",
      "Epoch 26, CIFAR-10 Batch 4:  Loss:     0.1645 Validation Accuracy: 0.680000\n",
      "Epoch 26, CIFAR-10 Batch 5:  Loss:     0.1925 Validation Accuracy: 0.679000\n",
      "Epoch 27, CIFAR-10 Batch 1:  Loss:     0.2557 Validation Accuracy: 0.676000\n",
      "Epoch 27, CIFAR-10 Batch 2:  Loss:     0.1880 Validation Accuracy: 0.691200\n",
      "Epoch 27, CIFAR-10 Batch 3:  Loss:     0.1329 Validation Accuracy: 0.673000\n",
      "Epoch 27, CIFAR-10 Batch 4:  Loss:     0.1251 Validation Accuracy: 0.686400\n",
      "Epoch 27, CIFAR-10 Batch 5:  Loss:     0.1574 Validation Accuracy: 0.683800\n",
      "Epoch 28, CIFAR-10 Batch 1:  Loss:     0.2463 Validation Accuracy: 0.661800\n",
      "Epoch 28, CIFAR-10 Batch 2:  Loss:     0.1537 Validation Accuracy: 0.691800\n",
      "Epoch 28, CIFAR-10 Batch 3:  Loss:     0.1233 Validation Accuracy: 0.674000\n",
      "Epoch 28, CIFAR-10 Batch 4:  Loss:     0.1237 Validation Accuracy: 0.686200\n",
      "Epoch 28, CIFAR-10 Batch 5:  Loss:     0.1609 Validation Accuracy: 0.682000\n",
      "Epoch 29, CIFAR-10 Batch 1:  Loss:     0.2154 Validation Accuracy: 0.688600\n",
      "Epoch 29, CIFAR-10 Batch 2:  Loss:     0.1509 Validation Accuracy: 0.680800\n",
      "Epoch 29, CIFAR-10 Batch 3:  Loss:     0.1291 Validation Accuracy: 0.658400\n",
      "Epoch 29, CIFAR-10 Batch 4:  Loss:     0.1084 Validation Accuracy: 0.690200\n",
      "Epoch 29, CIFAR-10 Batch 5:  Loss:     0.1317 Validation Accuracy: 0.685800\n",
      "Epoch 30, CIFAR-10 Batch 1:  Loss:     0.1992 Validation Accuracy: 0.687200\n",
      "Epoch 30, CIFAR-10 Batch 2:  Loss:     0.1477 Validation Accuracy: 0.687400\n",
      "Epoch 30, CIFAR-10 Batch 3:  Loss:     0.1240 Validation Accuracy: 0.665200\n",
      "Epoch 30, CIFAR-10 Batch 4:  Loss:     0.0987 Validation Accuracy: 0.684400\n",
      "Epoch 30, CIFAR-10 Batch 5:  Loss:     0.1591 Validation Accuracy: 0.690200\n",
      "Epoch 31, CIFAR-10 Batch 1:  Loss:     0.2042 Validation Accuracy: 0.680400\n",
      "Epoch 31, CIFAR-10 Batch 2:  Loss:     0.1573 Validation Accuracy: 0.680600\n",
      "Epoch 31, CIFAR-10 Batch 3:  Loss:     0.1042 Validation Accuracy: 0.675800\n",
      "Epoch 31, CIFAR-10 Batch 4:  Loss:     0.1191 Validation Accuracy: 0.689600\n",
      "Epoch 31, CIFAR-10 Batch 5:  Loss:     0.1313 Validation Accuracy: 0.687600\n",
      "Epoch 32, CIFAR-10 Batch 1:  Loss:     0.1694 Validation Accuracy: 0.686000\n",
      "Epoch 32, CIFAR-10 Batch 2:  Loss:     0.1324 Validation Accuracy: 0.680600\n",
      "Epoch 32, CIFAR-10 Batch 3:  Loss:     0.1120 Validation Accuracy: 0.677600\n",
      "Epoch 32, CIFAR-10 Batch 4:  Loss:     0.0924 Validation Accuracy: 0.680600\n",
      "Epoch 32, CIFAR-10 Batch 5:  Loss:     0.1359 Validation Accuracy: 0.680200\n",
      "Epoch 33, CIFAR-10 Batch 1:  Loss:     0.1835 Validation Accuracy: 0.672400\n",
      "Epoch 33, CIFAR-10 Batch 2:  Loss:     0.1342 Validation Accuracy: 0.680200\n",
      "Epoch 33, CIFAR-10 Batch 3:  Loss:     0.1007 Validation Accuracy: 0.677400\n",
      "Epoch 33, CIFAR-10 Batch 4:  Loss:     0.0881 Validation Accuracy: 0.691000\n",
      "Epoch 33, CIFAR-10 Batch 5:  Loss:     0.1161 Validation Accuracy: 0.687800\n",
      "Epoch 34, CIFAR-10 Batch 1:  Loss:     0.1524 Validation Accuracy: 0.682000\n",
      "Epoch 34, CIFAR-10 Batch 2:  Loss:     0.1153 Validation Accuracy: 0.676000\n",
      "Epoch 34, CIFAR-10 Batch 3:  Loss:     0.0900 Validation Accuracy: 0.692600\n",
      "Epoch 34, CIFAR-10 Batch 4:  Loss:     0.0928 Validation Accuracy: 0.680000\n",
      "Epoch 34, CIFAR-10 Batch 5:  Loss:     0.1203 Validation Accuracy: 0.683600\n",
      "Epoch 35, CIFAR-10 Batch 1:  Loss:     0.1751 Validation Accuracy: 0.677400\n",
      "Epoch 35, CIFAR-10 Batch 2:  Loss:     0.1193 Validation Accuracy: 0.678600\n",
      "Epoch 35, CIFAR-10 Batch 3:  Loss:     0.1225 Validation Accuracy: 0.689800\n",
      "Epoch 35, CIFAR-10 Batch 4:  Loss:     0.0924 Validation Accuracy: 0.680400\n",
      "Epoch 35, CIFAR-10 Batch 5:  Loss:     0.1115 Validation Accuracy: 0.676200\n",
      "Epoch 36, CIFAR-10 Batch 1:  Loss:     0.1731 Validation Accuracy: 0.679600\n",
      "Epoch 36, CIFAR-10 Batch 2:  Loss:     0.1194 Validation Accuracy: 0.670000\n",
      "Epoch 36, CIFAR-10 Batch 3:  Loss:     0.1012 Validation Accuracy: 0.693800\n",
      "Epoch 36, CIFAR-10 Batch 4:  Loss:     0.0764 Validation Accuracy: 0.687600\n",
      "Epoch 36, CIFAR-10 Batch 5:  Loss:     0.1033 Validation Accuracy: 0.684200\n",
      "Epoch 37, CIFAR-10 Batch 1:  Loss:     0.1804 Validation Accuracy: 0.670000\n",
      "Epoch 37, CIFAR-10 Batch 2:  Loss:     0.1216 Validation Accuracy: 0.673600\n",
      "Epoch 37, CIFAR-10 Batch 3:  Loss:     0.0919 Validation Accuracy: 0.691000\n",
      "Epoch 37, CIFAR-10 Batch 4:  Loss:     0.0876 Validation Accuracy: 0.683000\n",
      "Epoch 37, CIFAR-10 Batch 5:  Loss:     0.1013 Validation Accuracy: 0.670800\n",
      "Epoch 38, CIFAR-10 Batch 1:  Loss:     0.1991 Validation Accuracy: 0.669600\n",
      "Epoch 38, CIFAR-10 Batch 2:  Loss:     0.1289 Validation Accuracy: 0.677600\n",
      "Epoch 38, CIFAR-10 Batch 3:  Loss:     0.0886 Validation Accuracy: 0.685000\n",
      "Epoch 38, CIFAR-10 Batch 4:  Loss:     0.1081 Validation Accuracy: 0.679600\n",
      "Epoch 38, CIFAR-10 Batch 5:  Loss:     0.1049 Validation Accuracy: 0.682600\n",
      "Epoch 39, CIFAR-10 Batch 1:  Loss:     0.1793 Validation Accuracy: 0.672400\n",
      "Epoch 39, CIFAR-10 Batch 2:  Loss:     0.1190 Validation Accuracy: 0.685000\n",
      "Epoch 39, CIFAR-10 Batch 3:  Loss:     0.1031 Validation Accuracy: 0.678600\n",
      "Epoch 39, CIFAR-10 Batch 4:  Loss:     0.0982 Validation Accuracy: 0.681000\n",
      "Epoch 39, CIFAR-10 Batch 5:  Loss:     0.0819 Validation Accuracy: 0.685000\n",
      "Epoch 40, CIFAR-10 Batch 1:  Loss:     0.1412 Validation Accuracy: 0.677400\n",
      "Epoch 40, CIFAR-10 Batch 2:  Loss:     0.1275 Validation Accuracy: 0.676800\n",
      "Epoch 40, CIFAR-10 Batch 3:  Loss:     0.0929 Validation Accuracy: 0.686400\n",
      "Epoch 40, CIFAR-10 Batch 4:  Loss:     0.0804 Validation Accuracy: 0.683400\n",
      "Epoch 40, CIFAR-10 Batch 5:  Loss:     0.0954 Validation Accuracy: 0.671400\n",
      "Epoch 41, CIFAR-10 Batch 1:  Loss:     0.1326 Validation Accuracy: 0.676400\n",
      "Epoch 41, CIFAR-10 Batch 2:  Loss:     0.1072 Validation Accuracy: 0.673000\n",
      "Epoch 41, CIFAR-10 Batch 3:  Loss:     0.0913 Validation Accuracy: 0.684200\n",
      "Epoch 41, CIFAR-10 Batch 4:  Loss:     0.0609 Validation Accuracy: 0.683600\n",
      "Epoch 41, CIFAR-10 Batch 5:  Loss:     0.0891 Validation Accuracy: 0.678200\n",
      "Epoch 42, CIFAR-10 Batch 1:  Loss:     0.1342 Validation Accuracy: 0.660600\n",
      "Epoch 42, CIFAR-10 Batch 2:  Loss:     0.0958 Validation Accuracy: 0.675800\n",
      "Epoch 42, CIFAR-10 Batch 3:  Loss:     0.0866 Validation Accuracy: 0.686800\n",
      "Epoch 42, CIFAR-10 Batch 4:  Loss:     0.0629 Validation Accuracy: 0.686000\n",
      "Epoch 42, CIFAR-10 Batch 5:  Loss:     0.0676 Validation Accuracy: 0.676000\n",
      "Epoch 43, CIFAR-10 Batch 1:  Loss:     0.1444 Validation Accuracy: 0.672600\n",
      "Epoch 43, CIFAR-10 Batch 2:  Loss:     0.1030 Validation Accuracy: 0.668000\n",
      "Epoch 43, CIFAR-10 Batch 3:  Loss:     0.1045 Validation Accuracy: 0.690000\n",
      "Epoch 43, CIFAR-10 Batch 4:  Loss:     0.0612 Validation Accuracy: 0.687800\n",
      "Epoch 43, CIFAR-10 Batch 5:  Loss:     0.0575 Validation Accuracy: 0.682000\n",
      "Epoch 44, CIFAR-10 Batch 1:  Loss:     0.1251 Validation Accuracy: 0.659000\n"
     ]
    },
    {
     "name": "stdout",
     "output_type": "stream",
     "text": [
      "Epoch 44, CIFAR-10 Batch 2:  Loss:     0.0938 Validation Accuracy: 0.671600\n",
      "Epoch 44, CIFAR-10 Batch 3:  Loss:     0.0927 Validation Accuracy: 0.682400\n",
      "Epoch 44, CIFAR-10 Batch 4:  Loss:     0.0681 Validation Accuracy: 0.690400\n",
      "Epoch 44, CIFAR-10 Batch 5:  Loss:     0.0726 Validation Accuracy: 0.682200\n",
      "Epoch 45, CIFAR-10 Batch 1:  Loss:     0.1076 Validation Accuracy: 0.655800\n",
      "Epoch 45, CIFAR-10 Batch 2:  Loss:     0.0923 Validation Accuracy: 0.654200\n",
      "Epoch 45, CIFAR-10 Batch 3:  Loss:     0.0805 Validation Accuracy: 0.693200\n",
      "Epoch 45, CIFAR-10 Batch 4:  Loss:     0.0516 Validation Accuracy: 0.692800\n",
      "Epoch 45, CIFAR-10 Batch 5:  Loss:     0.0621 Validation Accuracy: 0.682000\n",
      "Epoch 46, CIFAR-10 Batch 1:  Loss:     0.1042 Validation Accuracy: 0.648600\n",
      "Epoch 46, CIFAR-10 Batch 2:  Loss:     0.0861 Validation Accuracy: 0.667600\n",
      "Epoch 46, CIFAR-10 Batch 3:  Loss:     0.0623 Validation Accuracy: 0.687000\n",
      "Epoch 46, CIFAR-10 Batch 4:  Loss:     0.0438 Validation Accuracy: 0.690800\n",
      "Epoch 46, CIFAR-10 Batch 5:  Loss:     0.0702 Validation Accuracy: 0.678600\n",
      "Epoch 47, CIFAR-10 Batch 1:  Loss:     0.1207 Validation Accuracy: 0.661200\n",
      "Epoch 47, CIFAR-10 Batch 2:  Loss:     0.0887 Validation Accuracy: 0.675600\n",
      "Epoch 47, CIFAR-10 Batch 3:  Loss:     0.0808 Validation Accuracy: 0.687000\n",
      "Epoch 47, CIFAR-10 Batch 4:  Loss:     0.0538 Validation Accuracy: 0.682000\n",
      "Epoch 47, CIFAR-10 Batch 5:  Loss:     0.0703 Validation Accuracy: 0.678600\n",
      "Epoch 48, CIFAR-10 Batch 1:  Loss:     0.1137 Validation Accuracy: 0.657000\n",
      "Epoch 48, CIFAR-10 Batch 2:  Loss:     0.0897 Validation Accuracy: 0.681800\n",
      "Epoch 48, CIFAR-10 Batch 3:  Loss:     0.0807 Validation Accuracy: 0.692000\n",
      "Epoch 48, CIFAR-10 Batch 4:  Loss:     0.0569 Validation Accuracy: 0.688400\n",
      "Epoch 48, CIFAR-10 Batch 5:  Loss:     0.0635 Validation Accuracy: 0.680400\n",
      "Epoch 49, CIFAR-10 Batch 1:  Loss:     0.1069 Validation Accuracy: 0.662400\n",
      "Epoch 49, CIFAR-10 Batch 2:  Loss:     0.0768 Validation Accuracy: 0.682400\n",
      "Epoch 49, CIFAR-10 Batch 3:  Loss:     0.0908 Validation Accuracy: 0.684200\n",
      "Epoch 49, CIFAR-10 Batch 4:  Loss:     0.0504 Validation Accuracy: 0.684600\n",
      "Epoch 49, CIFAR-10 Batch 5:  Loss:     0.0611 Validation Accuracy: 0.679400\n",
      "Epoch 50, CIFAR-10 Batch 1:  Loss:     0.0861 Validation Accuracy: 0.665800\n",
      "Epoch 50, CIFAR-10 Batch 2:  Loss:     0.0730 Validation Accuracy: 0.687600\n",
      "Epoch 50, CIFAR-10 Batch 3:  Loss:     0.0637 Validation Accuracy: 0.682000\n",
      "Epoch 50, CIFAR-10 Batch 4:  Loss:     0.0492 Validation Accuracy: 0.686600\n",
      "Epoch 50, CIFAR-10 Batch 5:  Loss:     0.0679 Validation Accuracy: 0.687000\n"
     ]
    }
   ],
   "source": [
    "\"\"\"\n",
    "DON'T MODIFY ANYTHING IN THIS CELL\n",
    "\"\"\"\n",
    "save_model_path = './image_classification'\n",
    "\n",
    "print('Training...')\n",
    "with tf.Session() as sess:\n",
    "    # Initializing the variables\n",
    "    sess.run(tf.global_variables_initializer())\n",
    "    \n",
    "    # Training cycle\n",
    "    for epoch in range(epochs):\n",
    "        # Loop over all batches\n",
    "        n_batches = 5\n",
    "        for batch_i in range(1, n_batches + 1):\n",
    "            for batch_features, batch_labels in helper.load_preprocess_training_batch(batch_i, batch_size):\n",
    "                train_neural_network(sess, optimizer, keep_probability, batch_features, batch_labels)\n",
    "            print('Epoch {:>2}, CIFAR-10 Batch {}:  '.format(epoch + 1, batch_i), end='')\n",
    "            print_stats(sess, batch_features, batch_labels, cost, accuracy)\n",
    "            \n",
    "    # Save Model\n",
    "    saver = tf.train.Saver()\n",
    "    save_path = saver.save(sess, save_model_path)"
   ]
  },
  {
   "cell_type": "markdown",
   "metadata": {},
   "source": [
    "# Checkpoint\n",
    "The model has been saved to disk.\n",
    "## Test Model\n",
    "Test your model against the test dataset.  This will be your final accuracy. You should have an accuracy greater than 50%. If you don't, keep tweaking the model architecture and parameters."
   ]
  },
  {
   "cell_type": "code",
   "execution_count": 20,
   "metadata": {},
   "outputs": [
    {
     "name": "stdout",
     "output_type": "stream",
     "text": [
      "INFO:tensorflow:Restoring parameters from ./image_classification\n",
      "Testing Accuracy: 0.67646484375\n",
      "\n"
     ]
    },
    {
     "data": {
      "image/png": "[encoded data removed]",
      "text/plain": [
       "<matplotlib.figure.Figure at 0x7fce7c081080>"
      ]
     },
     "metadata": {
      "image/png": {
       "height": 319,
       "width": 355
      }
     },
     "output_type": "display_data"
    }
   ],
   "source": [
    "\"\"\"\n",
    "DON'T MODIFY ANYTHING IN THIS CELL\n",
    "\"\"\"\n",
    "%matplotlib inline\n",
    "%config InlineBackend.figure_format = 'retina'\n",
    "\n",
    "import tensorflow as tf\n",
    "import pickle\n",
    "import helper\n",
    "import random\n",
    "\n",
    "# Set batch size if not already set\n",
    "try:\n",
    "    if batch_size:\n",
    "        pass\n",
    "except NameError:\n",
    "    batch_size = 64\n",
    "\n",
    "save_model_path = './image_classification'\n",
    "n_samples = 4\n",
    "top_n_predictions = 3\n",
    "\n",
    "def test_model():\n",
    "    \"\"\"\n",
    "    Test the saved model against the test dataset\n",
    "    \"\"\"\n",
    "\n",
    "    test_features, test_labels = pickle.load(open('preprocess_training.p', mode='rb'))\n",
    "    loaded_graph = tf.Graph()\n",
    "\n",
    "    with tf.Session(graph=loaded_graph) as sess:\n",
    "        # Load model\n",
    "        loader = tf.train.import_meta_graph(save_model_path + '.meta')\n",
    "        loader.restore(sess, save_model_path)\n",
    "\n",
    "        # Get Tensors from loaded model\n",
    "        loaded_x = loaded_graph.get_tensor_by_name('x:0')\n",
    "        loaded_y = loaded_graph.get_tensor_by_name('y:0')\n",
    "        loaded_keep_prob = loaded_graph.get_tensor_by_name('keep_prob:0')\n",
    "        loaded_logits = loaded_graph.get_tensor_by_name('logits:0')\n",
    "        loaded_acc = loaded_graph.get_tensor_by_name('accuracy:0')\n",
    "        \n",
    "        # Get accuracy in batches for memory limitations\n",
    "        test_batch_acc_total = 0\n",
    "        test_batch_count = 0\n",
    "        \n",
    "        for train_feature_batch, train_label_batch in helper.batch_features_labels(test_features, test_labels, batch_size):\n",
    "            test_batch_acc_total += sess.run(\n",
    "                loaded_acc,\n",
    "                feed_dict={loaded_x: train_feature_batch, loaded_y: train_label_batch, loaded_keep_prob: 1.0})\n",
    "            test_batch_count += 1\n",
    "\n",
    "        print('Testing Accuracy: {}\\n'.format(test_batch_acc_total/test_batch_count))\n",
    "\n",
    "        # Print Random Samples\n",
    "        random_test_features, random_test_labels = tuple(zip(*random.sample(list(zip(test_features, test_labels)), n_samples)))\n",
    "        random_test_predictions = sess.run(\n",
    "            tf.nn.top_k(tf.nn.softmax(loaded_logits), top_n_predictions),\n",
    "            feed_dict={loaded_x: random_test_features, loaded_y: random_test_labels, loaded_keep_prob: 1.0})\n",
    "        helper.display_image_predictions(random_test_features, random_test_labels, random_test_predictions)\n",
    "\n",
    "\n",
    "test_model()"
   ]
  },
  {
   "cell_type": "markdown",
   "metadata": {},
   "source": [
    "## Why 50-70% Accuracy?\n",
    "You might be wondering why you can't get an accuracy any higher. First things first, 50% isn't bad for a simple CNN.  Pure guessing would get you 10% accuracy. However, you might notice people are getting scores [well above 70%](http://rodrigob.github.io/are_we_there_yet/build/classification_datasets_results.html#43494641522d3130).  That's because we haven't taught you all there is to know about neural networks. We still need to cover a few more techniques.\n",
    "## Submitting This Project\n",
    "When submitting this project, make sure to run all the cells before saving the notebook.  Save the notebook file as \"dlnd_image_classification.ipynb\" and save it as a HTML file under \"File\" -> \"Download as\".  Include the \"helper.py\" and \"problem_unittests.py\" files in your submission."
   ]
  }
 ],
 "metadata": {
  "kernelspec": {
   "display_name": "Python 3",
   "language": "python",
   "name": "python3"
  },
  "language_info": {
   "codemirror_mode": {
    "name": "ipython",
    "version": 3
   },
   "file_extension": ".py",
   "mimetype": "text/x-python",
   "name": "python",
   "nbconvert_exporter": "python",
   "pygments_lexer": "ipython3",
   "version": "3.6.2"
  }
 },
 "nbformat": 4,
 "nbformat_minor": 1
}
